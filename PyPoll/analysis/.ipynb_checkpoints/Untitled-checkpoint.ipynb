{
 "cells": [
  {
   "cell_type": "code",
   "execution_count": 1,
   "id": "54123330-ea59-4e51-b56e-0f2a5b52729b",
   "metadata": {},
   "outputs": [],
   "source": [
    "#In this challenge, you are tasked with helping a small,\n",
    "#rural town modernize its vote counting process."
   ]
  },
  {
   "cell_type": "code",
   "execution_count": 62,
   "id": "74e82322-eefe-46f4-b968-0bf5500ed4ef",
   "metadata": {},
   "outputs": [],
   "source": [
    "import os\n",
    "import csv\n",
    "import pandas as pd\n",
    "from collections import Counter"
   ]
  },
  {
   "cell_type": "code",
   "execution_count": 3,
   "id": "a348a18c-c31a-409c-92e8-b5d064383f8c",
   "metadata": {},
   "outputs": [],
   "source": [
    "#You will be give a set of poll data called election_data.csv. \n",
    "#The dataset is composed of three columns: Voter ID, County, and Candidate. \n",
    "# Your task is to create a Python script that analyzes the votes and calculates each of the \n",
    "# following:"
   ]
  },
  {
   "cell_type": "code",
   "execution_count": 4,
   "id": "4ceee4a7-6dc1-4781-9e6b-bc365e596d12",
   "metadata": {},
   "outputs": [
    {
     "data": {
      "text/html": [
       "<div>\n",
       "<style scoped>\n",
       "    .dataframe tbody tr th:only-of-type {\n",
       "        vertical-align: middle;\n",
       "    }\n",
       "\n",
       "    .dataframe tbody tr th {\n",
       "        vertical-align: top;\n",
       "    }\n",
       "\n",
       "    .dataframe thead th {\n",
       "        text-align: right;\n",
       "    }\n",
       "</style>\n",
       "<table border=\"1\" class=\"dataframe\">\n",
       "  <thead>\n",
       "    <tr style=\"text-align: right;\">\n",
       "      <th></th>\n",
       "      <th>Voter ID</th>\n",
       "      <th>County</th>\n",
       "      <th>Candidate</th>\n",
       "    </tr>\n",
       "  </thead>\n",
       "  <tbody>\n",
       "    <tr>\n",
       "      <th>0</th>\n",
       "      <td>12864552</td>\n",
       "      <td>Marsh</td>\n",
       "      <td>Khan</td>\n",
       "    </tr>\n",
       "    <tr>\n",
       "      <th>1</th>\n",
       "      <td>17444633</td>\n",
       "      <td>Marsh</td>\n",
       "      <td>Correy</td>\n",
       "    </tr>\n",
       "    <tr>\n",
       "      <th>2</th>\n",
       "      <td>19330107</td>\n",
       "      <td>Marsh</td>\n",
       "      <td>Khan</td>\n",
       "    </tr>\n",
       "    <tr>\n",
       "      <th>3</th>\n",
       "      <td>19865775</td>\n",
       "      <td>Queen</td>\n",
       "      <td>Khan</td>\n",
       "    </tr>\n",
       "    <tr>\n",
       "      <th>4</th>\n",
       "      <td>11927875</td>\n",
       "      <td>Marsh</td>\n",
       "      <td>Khan</td>\n",
       "    </tr>\n",
       "  </tbody>\n",
       "</table>\n",
       "</div>"
      ],
      "text/plain": [
       "   Voter ID County Candidate\n",
       "0  12864552  Marsh      Khan\n",
       "1  17444633  Marsh    Correy\n",
       "2  19330107  Marsh      Khan\n",
       "3  19865775  Queen      Khan\n",
       "4  11927875  Marsh      Khan"
      ]
     },
     "execution_count": 77,
     "metadata": {},
     "output_type": "execute_result"
    }
   ],
   "source": [
    "df = pd.read_csv(\"Resources/election_data.csv\")\n",
    "df.head()"
   ]
  },
  {
   "cell_type": "code",
   "execution_count": 5,
   "id": "4d207f20-da7b-4d5e-aeaa-839f96344c5b",
   "metadata": {},
   "outputs": [],
   "source": [
    "#The total number of votes cast"
   ]
  },
  {
   "cell_type": "code",
   "execution_count": 6,
   "id": "4f4f4953-08c3-4d6c-961c-d705325ebb56",
   "metadata": {},
   "outputs": [
    {
     "data": {
      "text/plain": [
       "3521001"
      ]
     },
     "execution_count": 79,
     "metadata": {},
     "output_type": "execute_result"
    }
   ],
   "source": [
    "len(df)"
   ]
  },
  {
   "cell_type": "code",
   "execution_count": 7,
   "id": "60fff1dd-aa5c-4dd2-8efe-4f439a33f0c4",
   "metadata": {},
   "outputs": [],
   "source": [
    "# A complete list of candidates who received votes"
   ]
  },
  {
   "cell_type": "code",
   "execution_count": 29,
   "id": "73fdf4ef-5f76-47b2-924e-254cd52d07cb",
   "metadata": {},
   "outputs": [
    {
     "data": {
      "text/plain": [
       "array(['Khan', 'Correy', 'Li', \"O'Tooley\"], dtype=object)"
      ]
     },
     "execution_count": 81,
     "metadata": {},
     "output_type": "execute_result"
    }
   ],
   "source": [
    "df[\"Candidate\"].unique()"
   ]
  },
  {
   "cell_type": "code",
   "execution_count": 109,
   "id": "303a7cb0-8004-4a3d-92b8-180a156daee8",
   "metadata": {},
   "outputs": [
    {
     "data": {
      "text/plain": [
       "[63.0, 20.0, 14.0, 3.0]"
      ]
     },
     "execution_count": 109,
     "metadata": {},
     "output_type": "execute_result"
    }
   ],
   "source": [
    "cand_per = []\n",
    "for i in df[\"Candidate\"].unique():\n",
    "    n = len(df[df[\"Candidate\"] == i]) / len(df)\n",
    "    cand_per.append(round(n*100, 2))\n",
    "cand_per    "
   ]
  },
  {
   "cell_type": "code",
   "execution_count": 106,
   "id": "6b5d7790-0503-43a3-aa37-f38c1695c43f",
   "metadata": {},
   "outputs": [],
   "source": [
    "# The total number of votes each candidate won"
   ]
  },
  {
   "cell_type": "code",
   "execution_count": 27,
   "id": "98a4d4c4-fa5b-47b2-8e92-7130bb284b7a",
   "metadata": {},
   "outputs": [
    {
     "data": {
      "text/plain": [
       "Khan        2218231\n",
       "Correy       704200\n",
       "Li           492940\n",
       "O'Tooley     105630\n",
       "Name: Candidate, dtype: int64"
      ]
     },
     "execution_count": 84,
     "metadata": {},
     "output_type": "execute_result"
    }
   ],
   "source": [
    "df[\"Candidate\"].value_counts()"
   ]
  },
  {
   "cell_type": "code",
   "execution_count": null,
   "id": "6993c681-9c78-4a27-aaaf-68bc5780d566",
   "metadata": {},
   "outputs": [],
   "source": [
    "# The winner of the election based on popular vote."
   ]
  },
  {
   "cell_type": "code",
   "execution_count": 130,
   "id": "54b38024-86eb-440b-9eb4-8bf128b2f061",
   "metadata": {},
   "outputs": [
    {
     "data": {
      "text/plain": [
       "['Khan']"
      ]
     },
     "execution_count": 130,
     "metadata": {},
     "output_type": "execute_result"
    }
   ],
   "source": [
    "vote = df[\"Candidate\"]\n",
    "\n",
    "cand_votes = Counter(vote)\n",
    "\n",
    "winner = max(df[\"Candidate\"].value_counts())\n",
    "\n",
    "\n",
    "most_votes = max(cand_votes.values())\n",
    "\n",
    "First = [i for i in cand_votes.keys() \n",
    "       if cand_votes[i]==most_votes]\n",
    "\n",
    "sorted(First)"
   ]
  },
  {
   "cell_type": "code",
   "execution_count": null,
   "id": "22dd2a77-e302-4a21-adb7-285caca25a1e",
   "metadata": {},
   "outputs": [],
   "source": []
  }
 ],
 "metadata": {
  "kernelspec": {
   "display_name": "Python 3 (ipykernel)",
   "language": "python",
   "name": "python3"
  },
  "language_info": {
   "codemirror_mode": {
    "name": "ipython",
    "version": 3
   },
   "file_extension": ".py",
   "mimetype": "text/x-python",
   "name": "python",
   "nbconvert_exporter": "python",
   "pygments_lexer": "ipython3",
   "version": "3.9.7"
  }
 },
 "nbformat": 4,
 "nbformat_minor": 5
}
